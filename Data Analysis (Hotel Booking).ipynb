{
 "cells": [
  {
   "cell_type": "markdown",
   "id": "50a4d300",
   "metadata": {},
   "source": [
    "# Importing Libraries, Dataset and Identifying Data"
   ]
  },
  {
   "cell_type": "code",
   "execution_count": null,
   "id": "a0b5b300",
   "metadata": {},
   "outputs": [],
   "source": [
    "import pandas as pd\n",
    "import seaborn as sns\n",
    "import matplotlib.pyplot as plt\n",
    "import warnings\n",
    "warnings.filterwarnings(\"ignore\")"
   ]
  },
  {
   "cell_type": "code",
   "execution_count": null,
   "id": "1e27b162",
   "metadata": {},
   "outputs": [],
   "source": [
    "df = pd.read_csv(\"hotel_bookings.csv\")"
   ]
  },
  {
   "cell_type": "code",
   "execution_count": null,
   "id": "1cf31e0a",
   "metadata": {},
   "outputs": [],
   "source": [
    "df.head()"
   ]
  },
  {
   "cell_type": "code",
   "execution_count": null,
   "id": "db35ddb9",
   "metadata": {},
   "outputs": [],
   "source": [
    "df.tail(10)"
   ]
  },
  {
   "cell_type": "code",
   "execution_count": null,
   "id": "61ed4d27",
   "metadata": {},
   "outputs": [],
   "source": [
    "df.shape"
   ]
  },
  {
   "cell_type": "code",
   "execution_count": 190,
   "id": "a6886667",
   "metadata": {},
   "outputs": [
    {
     "data": {
      "text/plain": [
       "Index(['hotel', 'is_canceled', 'lead_time', 'arrival_date_year',\n",
       "       'arrival_date_month', 'arrival_date_week_number',\n",
       "       'arrival_date_day_of_month', 'stays_in_weekend_nights',\n",
       "       'stays_in_week_nights', 'adults', 'children', 'babies', 'meal',\n",
       "       'country', 'market_segment', 'distribution_channel',\n",
       "       'is_repeated_guest', 'previous_cancellations',\n",
       "       'previous_bookings_not_canceled', 'reserved_room_type',\n",
       "       'assigned_room_type', 'booking_changes', 'deposit_type',\n",
       "       'days_in_waiting_list', 'customer_type', 'adr',\n",
       "       'required_car_parking_spaces', 'total_of_special_requests',\n",
       "       'reservation_status', 'reservation_status_date', 'month'],\n",
       "      dtype='object')"
      ]
     },
     "execution_count": 190,
     "metadata": {},
     "output_type": "execute_result"
    }
   ],
   "source": [
    "df.columns"
   ]
  },
  {
   "cell_type": "markdown",
   "id": "2c88f154",
   "metadata": {},
   "source": [
    "# Exploring & Cleaning the Data"
   ]
  },
  {
   "cell_type": "code",
   "execution_count": null,
   "id": "2aa4ab4b",
   "metadata": {},
   "outputs": [],
   "source": [
    "df.info()"
   ]
  },
  {
   "cell_type": "code",
   "execution_count": null,
   "id": "98a83e00",
   "metadata": {},
   "outputs": [],
   "source": [
    "df['reservation_status_date'] = pd.to_datetime(df['reservation_status_date'], format='%d/%m/%Y')"
   ]
  },
  {
   "cell_type": "code",
   "execution_count": null,
   "id": "02b6266d",
   "metadata": {},
   "outputs": [],
   "source": [
    "df.info()"
   ]
  },
  {
   "cell_type": "code",
   "execution_count": null,
   "id": "353e15de",
   "metadata": {},
   "outputs": [],
   "source": [
    "#Categorical Values have datatype 'Object' \n",
    "#Hence, although describe is used for numeric data, using \"include\" allows us perform the operation on object datatypes as well\n",
    "\n",
    "df.describe(include = \"object\")"
   ]
  },
  {
   "cell_type": "code",
   "execution_count": null,
   "id": "503374af",
   "metadata": {},
   "outputs": [],
   "source": [
    "for col in df.describe(include = \"object\").columns:\n",
    "\n",
    "    print(col)\n",
    "    print(df[col].unique())\n",
    "    print(\"/\"*50)"
   ]
  },
  {
   "cell_type": "code",
   "execution_count": null,
   "id": "337d5da4",
   "metadata": {},
   "outputs": [],
   "source": [
    "df.isnull().sum()"
   ]
  },
  {
   "cell_type": "code",
   "execution_count": null,
   "id": "ded83c50",
   "metadata": {},
   "outputs": [],
   "source": [
    "#We are doing this ONLY because the dataset has 1L+ values and we cannot simply delete particualr null entries\n",
    "#Hence we have dropped the entire cols.\n",
    "df.drop(['agent','company'], axis = 1, inplace = True)\n",
    "\n",
    "#This removes the Null Entries\n",
    "df.dropna(inplace = True)"
   ]
  },
  {
   "cell_type": "code",
   "execution_count": null,
   "id": "02506642",
   "metadata": {},
   "outputs": [],
   "source": [
    "df.isnull().sum()"
   ]
  },
  {
   "cell_type": "code",
   "execution_count": null,
   "id": "cc75bc01",
   "metadata": {},
   "outputs": [],
   "source": [
    "df.describe()"
   ]
  },
  {
   "cell_type": "code",
   "execution_count": null,
   "id": "e7e0a8f1",
   "metadata": {},
   "outputs": [],
   "source": [
    "#Outlier: ADR value 5000 is wild, that should not be possible.\n",
    "\n",
    "df = df[df['adr']<500]"
   ]
  },
  {
   "cell_type": "code",
   "execution_count": null,
   "id": "1f1e73e0",
   "metadata": {},
   "outputs": [],
   "source": [
    "df.describe()"
   ]
  },
  {
   "cell_type": "markdown",
   "id": "7d574258",
   "metadata": {},
   "source": [
    "# Data Analysis and Visualizations"
   ]
  },
  {
   "cell_type": "code",
   "execution_count": null,
   "id": "eec61837",
   "metadata": {},
   "outputs": [],
   "source": [
    "cancel_perc = df['is_canceled'].value_counts(normalize = True)\n",
    "cancel_perc\n",
    "\n",
    "#37 percentile is quite a significant proportion. \n",
    "\n",
    "## Bar Plot\n",
    "plt.figure(figsize = (10,6))\n",
    "plt.bar(['Canceled','Not Canceled'],df['is_canceled'].value_counts(), color = 'g', edgecolor = 'k',width = 0.9)\n",
    "plt.xlabel('Is_Canceled')\n",
    "plt.ylabel('Calculations')\n",
    "plt.title('First Chart to explore cancelations')\n",
    "plt.show()"
   ]
  },
  {
   "cell_type": "code",
   "execution_count": null,
   "id": "74e9bd5f",
   "metadata": {},
   "outputs": [],
   "source": [
    "## CountPlot\n",
    "\n",
    "plt.figure(figsize = (10,6))\n",
    "sns.countplot(x = 'hotel',hue = 'is_canceled', palette = 'Blues', data = df)\n",
    "plt.xlabel('Type of Hotel')\n",
    "plt.ylabel('Count Of reservations')\n",
    "plt.legend(['Not Canceled','Canceled'])\n",
    "plt.title('Second Chart based on Hotel')\n",
    "plt.show()"
   ]
  },
  {
   "cell_type": "code",
   "execution_count": null,
   "id": "250e38d7",
   "metadata": {},
   "outputs": [],
   "source": [
    "resort_Hotel = df[df['hotel'] == 'Resort Hotel']\n",
    "resort_Hotel['is_canceled'].value_counts(normalize = True)#"
   ]
  },
  {
   "cell_type": "code",
   "execution_count": null,
   "id": "c047d71e",
   "metadata": {},
   "outputs": [],
   "source": [
    "City_Hotel = df[df['hotel'] == 'City Hotel']\n",
    "City_Hotel['is_canceled'].value_counts(normalize = True)"
   ]
  },
  {
   "cell_type": "code",
   "execution_count": null,
   "id": "b95e4d24",
   "metadata": {},
   "outputs": [],
   "source": [
    "df['month'] = df['reservation_status_date'].dt.month #dt\n",
    "\n",
    "plt.figure(figsize = (15,7))\n",
    "sns.countplot(x = 'month' ,hue = 'is_canceled', data = df)\n",
    "plt.legend(['Not_Canceled', 'Canceled'])\n",
    "plt.xlabel('Months')\n",
    "plt.ylabel('No. of Cancellation')\n",
    "plt.title('Chart based on Months')\n",
    "plt.show()"
   ]
  },
  {
   "cell_type": "code",
   "execution_count": null,
   "id": "61d3ca36",
   "metadata": {},
   "outputs": [],
   "source": [
    "#To prove that price is an important factor for cancelation\n",
    "#Refer: #df = df.groupby(['size', 'sex']).agg(mean_total_bill=(\"total_bill\", 'mean'))\n",
    "\n",
    "adr_monthly = df[df['is_canceled'] == 1]\n",
    "adr_monthly = adr_monthly.groupby('month').agg(adr_sum=(\"adr\",\"sum\"))#agg()\n",
    "adr_monthly = adr_monthly.reset_index()\n",
    "\n",
    "sns.barplot(x = \"month\",y = \"adr_sum\",data = adr_monthly)\n",
    "\n",
    "\n",
    "\n"
   ]
  },
  {
   "cell_type": "code",
   "execution_count": null,
   "id": "bfeeb6a5",
   "metadata": {},
   "outputs": [],
   "source": [
    "canceled_data = df[df['is_canceled'] == 1]\n",
    "top_10_countries = canceled_data['country'].value_counts()[:10] #Top 10, Slicing, vc\n",
    "#print(top_10_countries)\n",
    "\n",
    "plt.figure(figsize = (10,10))\n",
    "plt.pie(top_10_countries, autopct = \"%.2f\", labels = top_10_countries.index ,colors = sns.color_palette('pastel'), textprops={'fontsize': 10}, wedgeprops={\"linewidth\": 1, \"edgecolor\": \"white\"})\n",
    "plt.title(\"My Pie Chart\")\n",
    "plt.show()\n",
    "\n",
    "#Hence it is evident from the Pie Chart that PRT is a country to focus on be it Improving he aminities, Pricing, Advertising etc."
   ]
  },
  {
   "cell_type": "code",
   "execution_count": null,
   "id": "2702b9dc",
   "metadata": {},
   "outputs": [],
   "source": [
    "Agent_Type = df['market_segment'].value_counts()\n",
    "Agent_Type"
   ]
  },
  {
   "cell_type": "code",
   "execution_count": null,
   "id": "e2e5c250",
   "metadata": {},
   "outputs": [],
   "source": [
    "Agent_Type_Perc = df['market_segment'].value_counts(normalize = True)\n",
    "Agent_Type_Perc\n",
    "\n",
    "#Therefore it is evident that most reservations are done through Online TA"
   ]
  },
  {
   "cell_type": "code",
   "execution_count": null,
   "id": "6c943ee0",
   "metadata": {},
   "outputs": [],
   "source": [
    "canceled_data = df[df['is_canceled'] == 1]\n",
    "TA_Cancel_Data = canceled_data['market_segment'].value_counts(normalize = True)\n",
    "TA_Cancel_Data"
   ]
  },
  {
   "cell_type": "markdown",
   "id": "b5f61994",
   "metadata": {},
   "source": [
    "# Conclusion"
   ]
  },
  {
   "cell_type": "code",
   "execution_count": null,
   "id": "017bc90a",
   "metadata": {},
   "outputs": [],
   "source": [
    "Most Cancelations:\n",
    "1. Hotel Type - City\n",
    "2. Month -January\n",
    "3. Pricing - High\n",
    "4. Country - Portugese\n",
    "5. Market Segment - Online TA"
   ]
  }
 ],
 "metadata": {
  "kernelspec": {
   "display_name": "Python 3 (ipykernel)",
   "language": "python",
   "name": "python3"
  },
  "language_info": {
   "codemirror_mode": {
    "name": "ipython",
    "version": 3
   },
   "file_extension": ".py",
   "mimetype": "text/x-python",
   "name": "python",
   "nbconvert_exporter": "python",
   "pygments_lexer": "ipython3",
   "version": "3.11.5"
  }
 },
 "nbformat": 4,
 "nbformat_minor": 5
}
